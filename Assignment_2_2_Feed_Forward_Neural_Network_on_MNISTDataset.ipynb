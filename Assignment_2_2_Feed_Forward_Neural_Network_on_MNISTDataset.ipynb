{
  "nbformat": 4,
  "nbformat_minor": 0,
  "metadata": {
    "colab": {
      "provenance": [],
      "include_colab_link": true
    },
    "kernelspec": {
      "name": "python3",
      "display_name": "Python 3"
    },
    "language_info": {
      "name": "python"
    }
  },
  "cells": [
    {
      "cell_type": "markdown",
      "metadata": {
        "id": "view-in-github",
        "colab_type": "text"
      },
      "source": [
        "<a href=\"https://colab.research.google.com/github/Eshwari16/Assignment_No-1-a-/blob/main/Assignment_2_2_Feed_Forward_Neural_Network_on_MNISTDataset.ipynb\" target=\"_parent\"><img src=\"https://colab.research.google.com/assets/colab-badge.svg\" alt=\"Open In Colab\"/></a>"
      ]
    },
    {
      "cell_type": "code",
      "execution_count": null,
      "metadata": {
        "id": "U-BiEr9Jy-Mv"
      },
      "outputs": [],
      "source": [
        "\n",
        "\n",
        "\n",
        "# Implementing feedforward neural networks with Keras and TensorFlow\n",
        "# import the necessary packages\n",
        "from sklearn.preprocessing import LabelBinarizer\n",
        "from sklearn.metrics import classification_report\n",
        "from tensorflow.keras.models import Sequential\n",
        "from tensorflow.keras.layers import Dense\n",
        "from tensorflow.keras.optimizers import Adam\n",
        "from tensorflow.keras.datasets import mnist\n",
        "\n",
        "import matplotlib.pyplot as plt\n",
        "import numpy as np\n",
        "\n",
        "\n",
        "# The LabelBinarizer will be used to one-hot encode our integer labels as vector labels.\n",
        "# One-hot encoding transforms categorical labels from a single integer to a vector\n",
        "# The classification_report function will give us a nicely formatted report displaying the total accuracy of our model,\n",
        "# along with a breakdown on the classification accuracy for each digit.\n",
        "# import the necessary packages to create a simple feedforward neural network with Keras.\n",
        "# The Sequential class indicates that our network will be feedforward and layers will be added to the class sequentially, one on top of the other.\n",
        "# The Dense class on Line 5 is the implementation of our fully connected layers.\n",
        "# For our network to actually learn, we need to apply SGD (Line 6) to optimize the parameters of the network.\n",
        "# Finally, to gain access to full MNIST dataset, we need to import the mnist helper function on Line 7"
      ]
    },
    {
      "cell_type": "code",
      "source": [
        "# construct the argument parse and parse the arguments\n",
        "#ap = argparse.ArgumentParser()\n",
        "#ap.add_argument(\"-o\", \"--output\", required=True,\n",
        "\t#help=\"path to the output loss/accuracy plot\")\n",
        "#args = vars(ap.parse_args())\n",
        "\n",
        "# We only need a single switch here, --output, which is the path to where our figure\n",
        "# plotting the loss and accuracy over time will be saved to disk."
      ],
      "metadata": {
        "id": "XCGhZAG0_bUb"
      },
      "execution_count": null,
      "outputs": []
    },
    {
      "cell_type": "code",
      "source": [
        "# grab the MNIST dataset (if this is your first time using this\n",
        "# dataset then the 11MB download may take a minute)\n",
        "\n",
        "print(\"[INFO] accessing MNIST...\")\n",
        "((trainX, trainY), (testX, testY)) = mnist.load_data()\n",
        "\n",
        "# each image in the MNIST dataset is represented as a 28x28x1\n",
        "# image, but in order to apply a standard neural network we must\n",
        "# first \"flatten\" the image to be simple list of 28x28=784 pixels\n",
        "\n",
        "trainX = trainX.reshape((trainX.shape[0], 28 * 28 * 1))\n",
        "testX = testX.reshape((testX.shape[0], 28 * 28 * 1))\n",
        "\n",
        "#perform data normalization on Lines 31 and 32 by scaling the pixel intensities to the range [0, 1].\n",
        "# scale data to the range of [0, 1]\n",
        "\n",
        "trainX = trainX.astype(\"float32\") / 255.0\n",
        "testX = testX.astype(\"float32\") / 255.0"
      ],
      "metadata": {
        "colab": {
          "base_uri": "https://localhost:8080/"
        },
        "id": "xKEidJBo_tiN",
        "outputId": "dd1fad5b-11a2-4ce4-e3fe-923fdc9ee334"
      },
      "execution_count": null,
      "outputs": [
        {
          "output_type": "stream",
          "name": "stdout",
          "text": [
            "[INFO] accessing MNIST...\n"
          ]
        }
      ]
    },
    {
      "cell_type": "code",
      "source": [
        "# convert the labels from integers to vectors\n",
        "lb = LabelBinarizer()\n",
        "trainY = lb.fit_transform(trainY)\n",
        "testY = lb.transform(testY)\n",
        "\n",
        "# Each data point in the MNIST dataset has an integer label in the range [0, 9], one for each of the possible ten digits in the MNIST dataset.\n",
        "# A label with a value of 0 indicates that the corresponding image contains a zero digit. Similarly, a label with a value of 8 indicates\n",
        "# that the corresponding image contains the number eight."
      ],
      "metadata": {
        "id": "3_p3xZg3ANuG"
      },
      "execution_count": null,
      "outputs": []
    },
    {
      "cell_type": "code",
      "source": [
        "# However, we first need to transform these integer labels into vector labels,\n",
        "#where the index in the vector for label is set to 1 and 0 otherwise (this process is called one-hot encoding)."
      ],
      "metadata": {
        "id": "y9b3mNecAdmx"
      },
      "execution_count": null,
      "outputs": []
    },
    {
      "cell_type": "markdown",
      "source": [
        "one-hot encoding representations for each digit, 0−9, in the listing below:\n",
        "0: [1, 0, 0, 0, 0, 0, 0, 0, 0, 0]\n",
        "1: [0, 1, 0, 0, 0, 0, 0, 0, 0, 0]\n",
        "2: [0, 0, 1, 0, 0, 0, 0, 0, 0, 0]\n",
        "3: [0, 0, 0, 1, 0, 0, 0, 0, 0, 0]\n",
        "4: [0, 0, 0, 0, 1, 0, 0, 0, 0, 0]\n",
        "5: [0, 0, 0, 0, 0, 1, 0, 0, 0, 0]\n",
        "6: [0, 0, 0, 0, 0, 0, 1, 0, 0, 0]\n",
        "7: [0, 0, 0, 0, 0, 0, 0, 1, 0, 0]\n",
        "8: [0, 0, 0, 0, 0, 0, 0, 0, 1, 0]\n",
        "9: [0, 0, 0, 0, 0, 0, 0, 0, 0, 1]"
      ],
      "metadata": {
        "id": "pSCXIJgVG69I"
      }
    },
    {
      "cell_type": "markdown",
      "source": [
        "As you can see, our network is a feedforward architecture, instantiated by the Sequential class on Line 40 —\n",
        "this architecture implies that the layers will be stacked on top of each other with the output of the previous layer feeding into the next.\n",
        "\n",
        "Line 41 defines the first fully connected layer in the network. The input_shape is set to 784,\n",
        "the dimensionality of each MNIST data points. We then learn 256 weights in this layer and apply the sigmoid activation function.\n",
        "The next layer (Line 42) learns 128 weights. Finally, Line 43 applies another fully connected layer,\n",
        "this time only learning 10 weights, corresponding to the ten (0-9) output classes. Instead of a sigmoid activation,\n",
        "we’ll use a softmax activation to obtain normalized class probabilities for each prediction."
      ],
      "metadata": {
        "id": "XMmvu6V-HLdK"
      }
    },
    {
      "cell_type": "code",
      "source": [
        "# define the 784-256-128-10 architecture using Keras\n",
        "model = Sequential()\n",
        "model.add(Dense(256, input_shape=(784,), activation=\"relu\"))\n",
        "model.add(Dense(128, activation=\"relu\"))\n",
        "model.add(Dense(64, activation=\"relu\"))\n",
        "model.add(Dense(10, activation=\"softmax\"))\n",
        "\n",
        "# train the model using Adam\n",
        "print(\"[INFO] training network...\")\n",
        "Adm = Adam(0.01)\n",
        "model.compile(loss=\"categorical_crossentropy\", optimizer=Adm, metrics=[\"accuracy\"])\n",
        "H = model.fit(trainX, trainY, validation_data=(testX, testY), epochs=10, batch_size=32)"
      ],
      "metadata": {
        "colab": {
          "base_uri": "https://localhost:8080/"
        },
        "id": "ByJJesflFobX",
        "outputId": "b0933990-0ef6-4fce-f666-3385c093bf3d"
      },
      "execution_count": null,
      "outputs": [
        {
          "output_type": "stream",
          "name": "stdout",
          "text": [
            "[INFO] training network...\n",
            "Epoch 1/10\n",
            "1875/1875 [==============================] - 15s 7ms/step - loss: 0.2986 - accuracy: 0.9173 - val_loss: 0.2018 - val_accuracy: 0.9453\n",
            "Epoch 2/10\n",
            "1875/1875 [==============================] - 13s 7ms/step - loss: 0.1912 - accuracy: 0.9500 - val_loss: 0.1700 - val_accuracy: 0.9585\n",
            "Epoch 3/10\n",
            "1875/1875 [==============================] - 14s 7ms/step - loss: 0.1840 - accuracy: 0.9567 - val_loss: 0.2158 - val_accuracy: 0.9553\n",
            "Epoch 4/10\n",
            "1875/1875 [==============================] - 13s 7ms/step - loss: 0.1549 - accuracy: 0.9638 - val_loss: 0.1576 - val_accuracy: 0.9646\n",
            "Epoch 5/10\n",
            "1875/1875 [==============================] - 13s 7ms/step - loss: 0.1443 - accuracy: 0.9660 - val_loss: 0.1712 - val_accuracy: 0.9634\n",
            "Epoch 6/10\n",
            "1875/1875 [==============================] - 13s 7ms/step - loss: 0.1309 - accuracy: 0.9692 - val_loss: 0.1821 - val_accuracy: 0.9619\n",
            "Epoch 7/10\n",
            "1875/1875 [==============================] - 13s 7ms/step - loss: 0.1383 - accuracy: 0.9681 - val_loss: 0.2295 - val_accuracy: 0.9593\n",
            "Epoch 8/10\n",
            "1875/1875 [==============================] - 13s 7ms/step - loss: 0.1376 - accuracy: 0.9696 - val_loss: 0.2231 - val_accuracy: 0.9619\n",
            "Epoch 9/10\n",
            "1875/1875 [==============================] - 13s 7ms/step - loss: 0.1290 - accuracy: 0.9707 - val_loss: 0.1786 - val_accuracy: 0.9686\n",
            "Epoch 10/10\n",
            "1875/1875 [==============================] - 13s 7ms/step - loss: 0.1099 - accuracy: 0.9746 - val_loss: 0.1981 - val_accuracy: 0.9668\n"
          ]
        }
      ]
    },
    {
      "cell_type": "markdown",
      "source": [
        "In Line 47, we initialize the SGD optimizer with a learning rate of 0.01 (which we may commonly write as 1e-2).\n",
        "We’ll use the category cross-entropy loss function as our loss metric (Lines 48 and 49). Using the cross-entropy\n",
        " loss function is also why we had to convert our integer labels to vector labels.\n",
        "\n",
        "A call to .fit of the model on Lines 50 and 51 kicks off the training of our neural network.\n",
        "We’ll supply the training data and training labels as the first two arguments to the method.*italicized text*"
      ],
      "metadata": {
        "id": "QWIYpr2EHNtn"
      }
    },
    {
      "cell_type": "code",
      "source": [
        "# evaluate the network\n",
        "print(\"[INFO] evaluating network...\")\n",
        "predictions = model.predict(testX, batch_size=128)\n",
        "print(classification_report(testY.argmax(axis=1),\n",
        "\tpredictions.argmax(axis=1),\n",
        "\ttarget_names=[str(x) for x in lb.classes_]))"
      ],
      "metadata": {
        "colab": {
          "base_uri": "https://localhost:8080/"
        },
        "id": "_2rhtL4KGAB4",
        "outputId": "24f92208-9935-4fbe-be9e-5c73929f7bce"
      },
      "execution_count": null,
      "outputs": [
        {
          "output_type": "stream",
          "name": "stdout",
          "text": [
            "[INFO] evaluating network...\n",
            "79/79 [==============================] - 0s 4ms/step\n",
            "              precision    recall  f1-score   support\n",
            "\n",
            "           0       0.98      0.98      0.98       980\n",
            "           1       0.99      0.99      0.99      1135\n",
            "           2       0.97      0.96      0.96      1032\n",
            "           3       0.96      0.97      0.96      1010\n",
            "           4       0.99      0.97      0.98       982\n",
            "           5       0.96      0.96      0.96       892\n",
            "           6       0.97      0.97      0.97       958\n",
            "           7       0.99      0.95      0.97      1028\n",
            "           8       0.92      0.95      0.93       974\n",
            "           9       0.95      0.97      0.96      1009\n",
            "\n",
            "    accuracy                           0.97     10000\n",
            "   macro avg       0.97      0.97      0.97     10000\n",
            "weighted avg       0.97      0.97      0.97     10000\n",
            "\n"
          ]
        }
      ]
    },
    {
      "cell_type": "code",
      "source": [
        "# plot the training loss and accuracy\n",
        "plt.style.use(\"ggplot\")\n",
        "plt.figure()\n",
        "plt.plot(np.arange(0, 10), H.history[\"loss\"], label=\"train_loss\")\n",
        "plt.plot(np.arange(0, 10), H.history[\"val_loss\"], label=\"val_loss\")\n",
        "plt.plot(np.arange(0, 10), H.history[\"accuracy\"], label=\"train_acc\")\n",
        "plt.plot(np.arange(0, 10), H.history[\"val_accuracy\"], label=\"val_acc\")\n",
        "plt.title(\"Training Loss and Accuracy\")\n",
        "plt.xlabel(\"Epoch #\")\n",
        "plt.ylabel(\"Loss/Accuracy\")\n",
        "plt.legend()\n",
        "plt.savefig('output.png')\n"
      ],
      "metadata": {
        "colab": {
          "base_uri": "https://localhost:8080/",
          "height": 477
        },
        "id": "Ku2GamqqGIns",
        "outputId": "7d3d9da3-3119-4f31-b9d7-bf21e3bef30e"
      },
      "execution_count": null,
      "outputs": [
        {
          "output_type": "display_data",
          "data": {
            "text/plain": [
              "<Figure size 640x480 with 1 Axes>"
            ],
            "image/png": "[encoded data removed]"
          },
          "metadata": {}
        }
      ]
    }
  ]
}